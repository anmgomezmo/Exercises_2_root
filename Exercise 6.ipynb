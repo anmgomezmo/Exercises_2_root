{
 "cells": [
  {
   "cell_type": "code",
   "execution_count": 1,
   "id": "33c4a971",
   "metadata": {},
   "outputs": [],
   "source": [
    "#include <iostream>\n",
    "#include <string>\n",
    "#include <stdio.h> "
   ]
  },
  {
   "cell_type": "code",
   "execution_count": 2,
   "id": "e2e6cfb0",
   "metadata": {},
   "outputs": [
    {
     "name": "stdout",
     "output_type": "stream",
     "text": [
      "******************************************************************************\n",
      "*Tree    :JetRecoTree: JetRecoTree                                            *\n",
      "*Entries :   102900 : Total =      3334789039 bytes  File  Size = 2227126936 *\n",
      "*        :          : Tree compression factor =   1.50                       *\n",
      "******************************************************************************\n",
      "*Br    0 :EventNumber : EventNumber/l                                        *\n",
      "*Entries :   102900 : Total  Size=     836872 bytes  File Size  =     448624 *\n",
      "*Baskets :      127 : Basket Size=       7219 bytes  Compression=   1.86     *\n",
      "*............................................................................*\n",
      "*Br    1 :RunNumber : RunNumber/l                                            *\n",
      "*Entries :   102900 : Total  Size=     836610 bytes  File Size  =      20416 *\n",
      "*Baskets :      127 : Basket Size=       7219 bytes  Compression=  40.84     *\n",
      "*............................................................................*\n",
      "*Br    2 :EventWeight : EventWeight/f                                        *\n",
      "*Entries :   102900 : Total  Size=     418649 bytes  File Size  =     402832 *\n",
      "*Baskets :       64 : Basket Size=       7219 bytes  Compression=   1.04     *\n",
      "*............................................................................*\n",
      "*Br    3 :mu_average : mu_average/f                                          *\n",
      "*Entries :   102900 : Total  Size=     418581 bytes  File Size  =     168998 *\n",
      "*Baskets :       64 : Basket Size=       7219 bytes  Compression=   2.47     *\n",
      "*............................................................................*\n",
      "*Br    4 :mu_actual : mu_actual/f                                            *\n",
      "*Entries :   102900 : Total  Size=     418513 bytes  File Size  =     168934 *\n",
      "*Baskets :       64 : Basket Size=       7219 bytes  Compression=   2.47     *\n",
      "*............................................................................*\n",
      "*Br    5 :NPV       : NPV/i                                                  *\n",
      "*Entries :   102900 : Total  Size=     418105 bytes  File Size  =     121543 *\n",
      "*Baskets :       64 : Basket Size=       7219 bytes  Compression=   3.43     *\n",
      "*............................................................................*\n",
      "*Br    6 :Tracks_pt : vector<float>                                          *\n",
      "*Entries :   102900 : Total  Size=  262928429 bytes  File Size  =  232265540 *\n",
      "*Baskets :      128 : Basket Size=    3622912 bytes  Compression=   1.13     *\n",
      "*............................................................................*\n",
      "*Br    7 :Tracks_eta : vector<float>                                         *\n",
      "*Entries :   102900 : Total  Size=  262928561 bytes  File Size  =  243525928 *\n",
      "*Baskets :      128 : Basket Size=    3622912 bytes  Compression=   1.08     *\n",
      "*............................................................................*\n",
      "*Br    8 :Tracks_phi : vector<float>                                         *\n",
      "*Entries :   102900 : Total  Size=  262928561 bytes  File Size  =  243555112 *\n",
      "*Baskets :      128 : Basket Size=    3622912 bytes  Compression=   1.08     *\n",
      "*............................................................................*\n",
      "*Br    9 :Tracks_m  : vector<float>                                          *\n",
      "*Entries :   102900 : Total  Size=  262928297 bytes  File Size  =  128758959 *\n",
      "*Baskets :      128 : Basket Size=    3622912 bytes  Compression=   2.04     *\n",
      "*............................................................................*\n",
      "*Br   10 :Tracks_vtx : vector<int>                                           *\n",
      "*Entries :   102900 : Total  Size=  262928561 bytes  File Size  =   58998852 *\n",
      "*Baskets :      128 : Basket Size=    3622912 bytes  Compression=   4.46     *\n",
      "*............................................................................*\n",
      "*Br   11 :Clusters_pt : vector<float>                                        *\n",
      "*Entries :   102900 : Total  Size=  244379153 bytes  File Size  =  221895864 *\n",
      "*Baskets :      128 : Basket Size=    3622912 bytes  Compression=   1.10     *\n",
      "*............................................................................*\n",
      "*Br   12 :Clusters_eta : vector<float>                                       *\n",
      "*Entries :   102900 : Total  Size=  244379285 bytes  File Size  =  226601845 *\n",
      "*Baskets :      128 : Basket Size=    3622912 bytes  Compression=   1.08     *\n",
      "*............................................................................*\n",
      "*Br   13 :Clusters_phi : vector<float>                                       *\n",
      "*Entries :   102900 : Total  Size=  244379285 bytes  File Size  =  225357711 *\n",
      "*Baskets :      128 : Basket Size=    3622912 bytes  Compression=   1.08     *\n",
      "*............................................................................*\n",
      "*Br   14 :Clusters_m : vector<float>                                         *\n",
      "*Entries :   102900 : Total  Size=  244379021 bytes  File Size  =    2688240 *\n",
      "*Baskets :      128 : Basket Size=    3622912 bytes  Compression=  90.91     *\n",
      "*............................................................................*\n",
      "*Br   15 :Particles_pt : vector<float>                                       *\n",
      "*Entries :   102900 : Total  Size=  181674395 bytes  File Size  =  167488975 *\n",
      "*Baskets :       65 : Basket Size=    3622912 bytes  Compression=   1.08     *\n",
      "*............................................................................*\n",
      "*Br   16 :Particles_eta : vector<float>                                      *\n",
      "*Entries :   102900 : Total  Size=  181674464 bytes  File Size  =  168944905 *\n",
      "*Baskets :       65 : Basket Size=    3622912 bytes  Compression=   1.08     *\n",
      "*............................................................................*\n",
      "*Br   17 :Particles_phi : vector<float>                                      *\n",
      "*Entries :   102900 : Total  Size=  181674464 bytes  File Size  =  168168066 *\n",
      "*Baskets :       65 : Basket Size=    3622912 bytes  Compression=   1.08     *\n",
      "*............................................................................*\n",
      "*Br   18 :Particles_m : vector<float>                                        *\n",
      "*Entries :   102900 : Total  Size=  181674326 bytes  File Size  =   21893813 *\n",
      "*Baskets :       65 : Basket Size=    3622912 bytes  Compression=   8.30     *\n",
      "*............................................................................*\n",
      "*Br   19 :Particles_pdgID : vector<int>                                      *\n",
      "*Entries :   102900 : Total  Size=  181674602 bytes  File Size  =   26491397 *\n",
      "*Baskets :       65 : Basket Size=    3622912 bytes  Compression=   6.86     *\n",
      "*............................................................................*\n",
      "*Br   20 :RecoJets_R4_pt : vector<float>                                     *\n",
      "*Entries :   102900 : Total  Size=    8399881 bytes  File Size  =    6970572 *\n",
      "*Baskets :       65 : Basket Size=     254464 bytes  Compression=   1.20     *\n",
      "*............................................................................*\n",
      "*Br   21 :RecoJets_R4_eta : vector<float>                                    *\n",
      "*Entries :   102900 : Total  Size=    8399950 bytes  File Size  =    7257663 *\n",
      "*Baskets :       65 : Basket Size=     254464 bytes  Compression=   1.16     *\n",
      "*............................................................................*\n",
      "*Br   22 :RecoJets_R4_phi : vector<float>                                    *\n",
      "*Entries :   102900 : Total  Size=    8399950 bytes  File Size  =    7235997 *\n",
      "*Baskets :       65 : Basket Size=     254464 bytes  Compression=   1.16     *\n",
      "*............................................................................*\n",
      "*Br   23 :RecoJets_R4_m : vector<float>                                      *\n",
      "*Entries :   102900 : Total  Size=    8399812 bytes  File Size  =    6985643 *\n",
      "*Baskets :       65 : Basket Size=     254464 bytes  Compression=   1.20     *\n",
      "*............................................................................*\n",
      "*Br   24 :RecoJets_R4_jvf : vector<float>                                    *\n",
      "*Entries :   102900 : Total  Size=    8399950 bytes  File Size  =    5684124 *\n",
      "*Baskets :       65 : Basket Size=     254464 bytes  Compression=   1.48     *\n",
      "*............................................................................*\n",
      "*Br   25 :TrackJets_R4_pt : vector<float>                                    *\n",
      "*Entries :   102900 : Total  Size=    3020029 bytes  File Size  =    1978875 *\n",
      "*Baskets :      128 : Basket Size=      41984 bytes  Compression=   1.52     *\n",
      "*............................................................................*\n",
      "*Br   26 :TrackJets_R4_eta : vector<float>                                   *\n",
      "*Entries :   102900 : Total  Size=    3020161 bytes  File Size  =    2013703 *\n",
      "*Baskets :      128 : Basket Size=      41984 bytes  Compression=   1.50     *\n",
      "*............................................................................*\n",
      "*Br   27 :TrackJets_R4_phi : vector<float>                                   *\n",
      "*Entries :   102900 : Total  Size=    3020161 bytes  File Size  =    2010836 *\n",
      "*Baskets :      128 : Basket Size=      41984 bytes  Compression=   1.50     *\n",
      "*............................................................................*\n",
      "*Br   28 :TrackJets_R4_m : vector<float>                                     *\n",
      "*Entries :   102900 : Total  Size=    3019897 bytes  File Size  =    1972166 *\n",
      "*Baskets :      128 : Basket Size=      41984 bytes  Compression=   1.53     *\n",
      "*............................................................................*\n",
      "*Br   29 :RecoJets_R10_pt : vector<float>                                    *\n",
      "*Entries :   102900 : Total  Size=    2251013 bytes  File Size  =    1181658 *\n",
      "*Baskets :      128 : Basket Size=      32768 bytes  Compression=   1.90     *\n",
      "*............................................................................*\n",
      "*Br   30 :RecoJets_R10_eta : vector<float>                                   *\n",
      "*Entries :   102900 : Total  Size=    2251145 bytes  File Size  =    1226587 *\n",
      "*Baskets :      128 : Basket Size=      32768 bytes  Compression=   1.83     *\n",
      "*............................................................................*\n",
      "*Br   31 :RecoJets_R10_phi : vector<float>                                   *\n",
      "*Entries :   102900 : Total  Size=    2251145 bytes  File Size  =    1223360 *\n",
      "*Baskets :      128 : Basket Size=      32768 bytes  Compression=   1.84     *\n",
      "*............................................................................*\n",
      "*Br   32 :RecoJets_R10_m : vector<float>                                     *\n",
      "*Entries :   102900 : Total  Size=    2250881 bytes  File Size  =    1181924 *\n",
      "*Baskets :      128 : Basket Size=      32768 bytes  Compression=   1.90     *\n",
      "*............................................................................*\n",
      "*Br   33 :RecoJets_R10_D2beta1 : vector<float>                               *\n",
      "*Entries :   102900 : Total  Size=    2251673 bytes  File Size  =    1189408 *\n",
      "*Baskets :      128 : Basket Size=      32768 bytes  Compression=   1.89     *\n",
      "*............................................................................*\n",
      "*Br   34 :RecoJets_R10_tau32wta : vector<float>                              *\n",
      "*Entries :   102900 : Total  Size=    2251805 bytes  File Size  =    1137893 *\n",
      "*Baskets :      128 : Basket Size=      32768 bytes  Compression=   1.98     *\n",
      "*............................................................................*\n",
      "*Br   35 :RecoJets_R10_Trimmed_pt : vector<float>                            *\n",
      "*Entries :   102900 : Total  Size=    2252069 bytes  File Size  =    1193515 *\n",
      "*Baskets :      128 : Basket Size=      32768 bytes  Compression=   1.88     *\n",
      "*............................................................................*\n",
      "*Br   36 :RecoJets_R10_Trimmed_eta : vector<float>                           *\n",
      "*Entries :   102900 : Total  Size=    2252201 bytes  File Size  =    1227822 *\n",
      "*Baskets :      128 : Basket Size=      32768 bytes  Compression=   1.83     *\n",
      "*............................................................................*\n",
      "*Br   37 :RecoJets_R10_Trimmed_phi : vector<float>                           *\n",
      "*Entries :   102900 : Total  Size=    2252201 bytes  File Size  =    1224259 *\n",
      "*Baskets :      128 : Basket Size=      32768 bytes  Compression=   1.84     *\n",
      "*............................................................................*\n",
      "*Br   38 :RecoJets_R10_Trimmed_m : vector<float>                             *\n",
      "*Entries :   102900 : Total  Size=    2251937 bytes  File Size  =    1201169 *\n",
      "*Baskets :      128 : Basket Size=      32768 bytes  Compression=   1.87     *\n",
      "*............................................................................*\n",
      "*Br   39 :RecoJets_R10_Trimmed_D2beta1 : vector<float>                       *\n",
      "*Entries :   102900 : Total  Size=    2252729 bytes  File Size  =    1186517 *\n",
      "*Baskets :      128 : Basket Size=      32768 bytes  Compression=   1.90     *\n",
      "*............................................................................*\n",
      "*Br   40 :RecoJets_R10_Trimmed_tau32wta : vector<float>                      *\n",
      "*Entries :   102900 : Total  Size=    2252861 bytes  File Size  =    1165565 *\n",
      "*Baskets :      128 : Basket Size=      32768 bytes  Compression=   1.93     *\n",
      "*............................................................................*\n",
      "*Br   41 :TruthJets_R4_pt : vector<float>                                    *\n",
      "*Entries :   102900 : Total  Size=    5663442 bytes  File Size  =    4523590 *\n",
      "*Baskets :       65 : Basket Size=     120832 bytes  Compression=   1.25     *\n",
      "*............................................................................*\n",
      "*Br   42 :TruthJets_R4_eta : vector<float>                                   *\n",
      "*Entries :   102900 : Total  Size=    5663511 bytes  File Size  =    4595498 *\n",
      "*Baskets :       65 : Basket Size=     120832 bytes  Compression=   1.23     *\n",
      "*............................................................................*\n",
      "*Br   43 :TruthJets_R4_phi : vector<float>                                   *\n",
      "*Entries :   102900 : Total  Size=    5663511 bytes  File Size  =    4570123 *\n",
      "*Baskets :       65 : Basket Size=     120832 bytes  Compression=   1.24     *\n",
      "*............................................................................*\n",
      "*Br   44 :TruthJets_R4_m : vector<float>                                     *\n",
      "*Entries :   102900 : Total  Size=    5663373 bytes  File Size  =    4494532 *\n",
      "*Baskets :       65 : Basket Size=     120832 bytes  Compression=   1.26     *\n",
      "*............................................................................*\n",
      "*Br   45 :TruthJets_R10_pt : vector<float>                                   *\n",
      "*Entries :   102900 : Total  Size=    2261873 bytes  File Size  =    1196555 *\n",
      "*Baskets :      128 : Basket Size=      32256 bytes  Compression=   1.89     *\n",
      "*............................................................................*\n",
      "*Br   46 :TruthJets_R10_eta : vector<float>                                  *\n",
      "*Entries :   102900 : Total  Size=    2262005 bytes  File Size  =    1236630 *\n",
      "*Baskets :      128 : Basket Size=      32256 bytes  Compression=   1.83     *\n",
      "*............................................................................*\n",
      "*Br   47 :TruthJets_R10_phi : vector<float>                                  *\n",
      "*Entries :   102900 : Total  Size=    2262005 bytes  File Size  =    1232418 *\n",
      "*Baskets :      128 : Basket Size=      32256 bytes  Compression=   1.83     *\n",
      "*............................................................................*\n",
      "*Br   48 :TruthJets_R10_m : vector<float>                                    *\n",
      "*Entries :   102900 : Total  Size=    2261741 bytes  File Size  =    1198650 *\n",
      "*Baskets :      128 : Basket Size=      32256 bytes  Compression=   1.88     *\n",
      "*............................................................................*\n",
      "*Br   49 :TruthJets_R10_D2beta1 : vector<float>                              *\n",
      "*Entries :   102900 : Total  Size=    2262533 bytes  File Size  =    1208086 *\n",
      "*Baskets :      128 : Basket Size=      32256 bytes  Compression=   1.87     *\n",
      "*............................................................................*\n",
      "*Br   50 :TruthJets_R10_tau32wta : vector<float>                             *\n",
      "*Entries :   102900 : Total  Size=    2262665 bytes  File Size  =    1151969 *\n",
      "*Baskets :      128 : Basket Size=      32256 bytes  Compression=   1.96     *\n",
      "*............................................................................*\n",
      "*Br   51 :TruthJets_R10_Trimmed_pt : vector<float>                           *\n",
      "*Entries :   102900 : Total  Size=    2262929 bytes  File Size  =    1200297 *\n",
      "*Baskets :      128 : Basket Size=      32256 bytes  Compression=   1.88     *\n",
      "*............................................................................*\n",
      "*Br   52 :TruthJets_R10_Trimmed_eta : vector<float>                          *\n",
      "*Entries :   102900 : Total  Size=    2263061 bytes  File Size  =    1237632 *\n",
      "*Baskets :      128 : Basket Size=      32256 bytes  Compression=   1.83     *\n",
      "*............................................................................*\n",
      "*Br   53 :TruthJets_R10_Trimmed_phi : vector<float>                          *\n",
      "*Entries :   102900 : Total  Size=    2263061 bytes  File Size  =    1233325 *\n",
      "*Baskets :      128 : Basket Size=      32256 bytes  Compression=   1.83     *\n",
      "*............................................................................*\n",
      "*Br   54 :TruthJets_R10_Trimmed_m : vector<float>                            *\n",
      "*Entries :   102900 : Total  Size=    2262797 bytes  File Size  =    1211653 *\n",
      "*Baskets :      128 : Basket Size=      32256 bytes  Compression=   1.87     *\n",
      "*............................................................................*\n",
      "*Br   55 :TruthJets_R10_Trimmed_D2beta1 : vector<float>                      *\n",
      "*Entries :   102900 : Total  Size=    2263589 bytes  File Size  =    1203277 *\n",
      "*Baskets :      128 : Basket Size=      32256 bytes  Compression=   1.88     *\n",
      "*............................................................................*\n",
      "*Br   56 :TruthJets_R10_Trimmed_tau32wta : vector<float>                     *\n",
      "*Entries :   102900 : Total  Size=    2263721 bytes  File Size  =    1159033 *\n",
      "*Baskets :      128 : Basket Size=      32256 bytes  Compression=   1.95     *\n",
      "*............................................................................*\n"
     ]
    }
   ],
   "source": [
    "TFile *file = TFile::Open(\"../Tracks_Clusters.root\");\n",
    "TTree *tree = (TTree*) file->Get(\"JetRecoTree\");\n",
    "tree->Print();"
   ]
  },
  {
   "cell_type": "markdown",
   "id": "3178074e",
   "metadata": {},
   "source": [
    "# Exercise 6"
   ]
  },
  {
   "cell_type": "code",
   "execution_count": 3,
   "id": "5ca87e65",
   "metadata": {},
   "outputs": [],
   "source": [
    "float evtw = -1;\n",
    "\n",
    "vector<float> *track_R4_pt;\n",
    "vector<float> *track_R4_eta;\n",
    "vector<float> *track_R4_phi;\n",
    "vector<float> *track_R4_m;\n",
    "\n",
    "vector<float> *truth_R4_pt;\n",
    "vector<float> *truth_R4_eta;\n",
    "vector<float> *truth_R4_phi;\n",
    "vector<float> *truth_R4_m;\n",
    "\n",
    "vector<float> *reco_R4_jvf;\n",
    "\n",
    "tree->SetBranchAddress(\"EventWeight\", &evtw);\n",
    "tree->SetBranchAddress(\"TrackJets_R4_pt\", &track_R4_pt);\n",
    "tree->SetBranchAddress(\"TrackJets_R4_eta\", &track_R4_eta);\n",
    "tree->SetBranchAddress(\"TrackJets_R4_phi\", &track_R4_phi);\n",
    "tree->SetBranchAddress(\"TrackJets_R4_m\", &track_R4_m);\n",
    "\n",
    "tree->SetBranchAddress(\"TruthJets_R4_pt\", &truth_R4_pt);\n",
    "tree->SetBranchAddress(\"TruthJets_R4_eta\", &truth_R4_eta);\n",
    "tree->SetBranchAddress(\"TruthJets_R4_phi\", &truth_R4_phi);\n",
    "tree->SetBranchAddress(\"TruthJets_R4_m\", &truth_R4_m);\n",
    "tree->SetBranchAddress(\"RecoJets_R4_jvf\", &reco_R4_jvf);\n",
    "\n",
    "TH1F *hist_DR_track_truth = new TH1F(\"Delta R track\",\"Delta R; #Delta R; Events\",20,0,2);\n",
    "\n",
    "TCanvas *canvas = new TCanvas(\"Canvas\",\"\",800,600);"
   ]
  },
  {
   "cell_type": "code",
   "execution_count": 4,
   "id": "45230502",
   "metadata": {},
   "outputs": [],
   "source": [
    "int nentries, nbytes, i;\n",
    "nentries = (Int_t)tree->GetEntries();\n",
    "\n",
    "for (i = 0; i < nentries; i++)\n",
    "{\n",
    "    nbytes = tree->GetEntry(i);\n",
    "\n",
    "    if(truth_R4_pt->size()!=0 && truth_R4_pt->at(0)>20000.){\n",
    "    TLorentzVector truthJet;\n",
    "    truthJet.SetPtEtaPhiM(truth_R4_pt->at(0),truth_R4_eta->at(0),truth_R4_phi->at(0),truth_R4_m->at(0));        \n",
    "    if(track_R4_pt->size()!=0 && fabs(reco_R4_jvf->at(0))>0.5){\n",
    "    TLorentzVector trackJet;\n",
    "    trackJet.SetPtEtaPhiM(track_R4_pt->at(0),track_R4_eta->at(0),track_R4_phi->at(0),track_R4_m->at(0));        \n",
    "            \n",
    "        //Plot the Delta R\n",
    "        hist_DR_track_truth->Fill(truthJet.DeltaR(trackJet),evtw);\n",
    "    }\n",
    "    }\n",
    "}\n",
    "\n",
    "std::cout << \"Done!\" << std::endl;"
   ]
  },
  {
   "cell_type": "code",
   "execution_count": 5,
   "id": "ce891ce8",
   "metadata": {
    "scrolled": false
   },
   "outputs": [
    {
     "data": {
      "image/png": "[encoded data removed]",
      "text/plain": [
       "<IPython.core.display.Image object>"
      ]
     },
     "metadata": {},
     "output_type": "display_data"
    }
   ],
   "source": [
    "hist_DR_track_truth->Scale(1/hist_DR_track_truth->Integral());\n",
    "hist_DR_track_truth->DrawNormalized(\"\");\n",
    "canvas->Draw();"
   ]
  },
  {
   "cell_type": "code",
   "execution_count": 6,
   "id": "bdc71b91",
   "metadata": {},
   "outputs": [
    {
     "name": "stderr",
     "output_type": "stream",
     "text": [
      "Warning in <TCanvas::Constructor>: Deleting canvas with same name: Canvas\n"
     ]
    }
   ],
   "source": [
    "vector<float> *reco_R4_pt;\n",
    "vector<float> *reco_R4_eta;\n",
    "vector<float> *reco_R4_phi;\n",
    "vector<float> *reco_R4_m;\n",
    "\n",
    "tree->SetBranchAddress(\"RecoJets_R4_pt\", &reco_R4_pt);\n",
    "tree->SetBranchAddress(\"RecoJets_R4_eta\", &reco_R4_eta);\n",
    "tree->SetBranchAddress(\"RecoJets_R4_phi\", &reco_R4_phi);\n",
    "tree->SetBranchAddress(\"RecoJets_R4_m\", &reco_R4_m);\n",
    "\n",
    "TH1F *hist_DR_reco_truth = new TH1F(\"Delta R reco\",\"Delta R; #Delta R; Events\",20,0,2);\n",
    "TH1F *hist_DR_reco_jvf_truth = new TH1F(\"Delta R reco-jvf\",\"Delta R; #Delta R; Events\",20,0,2);\n",
    "\n",
    "TCanvas *canvas = new TCanvas(\"Canvas\",\"\",800,600);"
   ]
  },
  {
   "cell_type": "code",
   "execution_count": 7,
   "id": "f6e2caef",
   "metadata": {},
   "outputs": [
    {
     "name": "stdout",
     "output_type": "stream",
     "text": [
      "Done!\n"
     ]
    }
   ],
   "source": [
    "for (i = 0; i < nentries; i++)\n",
    "{\n",
    "    nbytes = tree->GetEntry(i);\n",
    "\n",
    "    if(truth_R4_pt->size()!=0 && truth_R4_pt->at(0)>20000.){\n",
    "    TLorentzVector truthJet;\n",
    "    truthJet.SetPtEtaPhiM(truth_R4_pt->at(0),truth_R4_eta->at(0),truth_R4_phi->at(0),truth_R4_m->at(0)); \n",
    "    if(reco_R4_pt->size()!=0 && fabs(reco_R4_jvf->at(0))>0.5){\n",
    "    TLorentzVector recoJet;\n",
    "    recoJet.SetPtEtaPhiM(reco_R4_pt->at(0),reco_R4_eta->at(0),reco_R4_phi->at(0),reco_R4_m->at(0));        \n",
    "            \n",
    "        //Plot the Delta R\n",
    "        hist_DR_reco_truth->Fill(truthJet.DeltaR(recoJet),evtw);\n",
    "    }\n",
    "    \n",
    "    if(reco_R4_pt->size()!=0){\n",
    "    TLorentzVector recojvfJet;\n",
    "    recojvfJet.SetPtEtaPhiM(reco_R4_pt->at(0),reco_R4_eta->at(0),reco_R4_phi->at(0),reco_R4_m->at(0));        \n",
    "            \n",
    "        //Plot the Delta R\n",
    "        hist_DR_reco_jvf_truth->Fill(truthJet.DeltaR(recojvfJet),evtw);\n",
    "    }\n",
    "    }\n",
    "}\n",
    "\n",
    "std::cout << \"Done!\" << std::endl;"
   ]
  },
  {
   "cell_type": "code",
   "execution_count": 8,
   "id": "d92b5f91",
   "metadata": {},
   "outputs": [
    {
     "data": {
      "image/png": "[encoded data removed]",
      "text/plain": [
       "<IPython.core.display.Image object>"
      ]
     },
     "metadata": {},
     "output_type": "display_data"
    }
   ],
   "source": [
    "hist_DR_track_truth->SetMarkerStyle(20);\n",
    "hist_DR_track_truth->SetMarkerColor(kRed);\n",
    "hist_DR_track_truth->Scale(1/hist_DR_track_truth->Integral());\n",
    "hist_DR_track_truth->DrawNormalized(\"\");\n",
    "hist_DR_reco_truth->SetMarkerStyle(21);\n",
    "hist_DR_reco_truth->SetMarkerColor(kBlue);\n",
    "hist_DR_reco_truth->Scale(1/hist_DR_reco_truth->Integral());\n",
    "hist_DR_reco_truth->DrawNormalized(\"same\");\n",
    "hist_DR_reco_jvf_truth->SetMarkerStyle(22);\n",
    "hist_DR_reco_jvf_truth->SetMarkerColor(kGreen);\n",
    "hist_DR_reco_jvf_truth->Scale(1/hist_DR_reco_jvf_truth->Integral());\n",
    "hist_DR_reco_jvf_truth->DrawNormalized(\"same\");\n",
    "canvas->Draw();"
   ]
  },
  {
   "cell_type": "markdown",
   "id": "dfce98be",
   "metadata": {},
   "source": [
    "# Excercise 7"
   ]
  },
  {
   "cell_type": "code",
   "execution_count": 9,
   "id": "a87a2fbf",
   "metadata": {},
   "outputs": [
    {
     "name": "stderr",
     "output_type": "stream",
     "text": [
      "Warning in <TFile::Append>: Replacing existing TH1: pT response (Potential memory leak).\n",
      "Warning in <TFile::Append>: Replacing existing TH1: pT response (Potential memory leak).\n",
      "Warning in <TCanvas::Constructor>: Deleting canvas with same name: Canvas\n"
     ]
    }
   ],
   "source": [
    "TH1F *hist_DR_recotruth_pt_20GeV = new TH1F(\"pT response\",\"Reco Responce pT; Delta R; Events\",40,0,3);\n",
    "TH1F *hist_DR_recotruth_pt_100GeV = new TH1F(\"pT response\",\"Reco Responce pT; Delta R; Events\",40,0,3);\n",
    "TH1F *hist_DR_recotruth_pt_500GeV = new TH1F(\"pT response\",\"Reco Responce pT; Delta R; Events\",40,0,3);\n",
    "TCanvas *canvas = new TCanvas(\"Canvas\",\"\",800,600);"
   ]
  },
  {
   "cell_type": "code",
   "execution_count": 10,
   "id": "6d1dc7de",
   "metadata": {},
   "outputs": [
    {
     "name": "stdout",
     "output_type": "stream",
     "text": [
      "Done!\n"
     ]
    }
   ],
   "source": [
    "for (i = 0; i < nentries; i++)\n",
    "{\n",
    "    nbytes = tree->GetEntry(i);\n",
    "\n",
    "    if(truth_R4_pt->size()!=0 && truth_R4_pt->at(0)>20000.){\n",
    "        TLorentzVector truthJet;\n",
    "        truthJet.SetPtEtaPhiM(truth_R4_pt->at(0),truth_R4_eta->at(0),truth_R4_phi->at(0),truth_R4_m->at(0)); \n",
    "        if(reco_R4_pt->size()!=0 && fabs(reco_R4_jvf->at(0))>0.5){\n",
    "            TLorentzVector recoJet;\n",
    "            recoJet.SetPtEtaPhiM(reco_R4_pt->at(0),reco_R4_eta->at(0),reco_R4_phi->at(0),reco_R4_m->at(0));        \n",
    "            if(truthJet.DeltaR(recoJet) < 0.3){\n",
    "                    hist_DR_recotruth_pt_20GeV->Fill(reco_R4_pt->at(0)/truth_R4_pt->at(0),evtw);\n",
    "            }\n",
    "        }\n",
    "    }\n",
    "    \n",
    "    if(truth_R4_pt->size()!=0 && truth_R4_pt->at(0)>100000.){\n",
    "        TLorentzVector truthJet;\n",
    "        truthJet.SetPtEtaPhiM(truth_R4_pt->at(0),truth_R4_eta->at(0),truth_R4_phi->at(0),truth_R4_m->at(0)); \n",
    "        if(reco_R4_pt->size()!=0 && fabs(reco_R4_jvf->at(0))>0.5){\n",
    "            TLorentzVector recoJet;\n",
    "            recoJet.SetPtEtaPhiM(reco_R4_pt->at(0),reco_R4_eta->at(0),reco_R4_phi->at(0),reco_R4_m->at(0));        \n",
    "            if(truthJet.DeltaR(recoJet) < 0.3){\n",
    "                    hist_DR_recotruth_pt_100GeV->Fill(reco_R4_pt->at(0)/truth_R4_pt->at(0),evtw);\n",
    "            }\n",
    "        }\n",
    "    }\n",
    "    \n",
    "    if(truth_R4_pt->size()!=0 && truth_R4_pt->at(0)>500000.){\n",
    "        TLorentzVector truthJet;\n",
    "        truthJet.SetPtEtaPhiM(truth_R4_pt->at(0),truth_R4_eta->at(0),truth_R4_phi->at(0),truth_R4_m->at(0)); \n",
    "        if(reco_R4_pt->size()!=0 && fabs(reco_R4_jvf->at(0))>0.5){\n",
    "            TLorentzVector recoJet;\n",
    "            recoJet.SetPtEtaPhiM(reco_R4_pt->at(0),reco_R4_eta->at(0),reco_R4_phi->at(0),reco_R4_m->at(0));        \n",
    "            if(truthJet.DeltaR(recoJet) < 0.3){\n",
    "                    hist_DR_recotruth_pt_500GeV->Fill(reco_R4_pt->at(0)/truth_R4_pt->at(0),evtw);\n",
    "            }\n",
    "        }\n",
    "    }\n",
    "}\n",
    "\n",
    "std::cout << \"Done!\" << std::endl;"
   ]
  },
  {
   "cell_type": "code",
   "execution_count": 11,
   "id": "f3185eb7",
   "metadata": {},
   "outputs": [
    {
     "data": {
      "image/png": "[encoded data removed]",
      "text/plain": [
       "<IPython.core.display.Image object>"
      ]
     },
     "metadata": {},
     "output_type": "display_data"
    }
   ],
   "source": [
    "hist_DR_recotruth_pt_20GeV->SetMarkerStyle(20);\n",
    "hist_DR_recotruth_pt_20GeV->SetMarkerColor(kRed);\n",
    "hist_DR_recotruth_pt_20GeV->Scale(1/hist_DR_recotruth_pt_20GeV->Integral());\n",
    "hist_DR_recotruth_pt_20GeV->DrawNormalized(\"\");\n",
    "hist_DR_recotruth_pt_100GeV->SetMarkerStyle(21);\n",
    "hist_DR_recotruth_pt_100GeV->SetMarkerColor(kBlue);\n",
    "hist_DR_recotruth_pt_100GeV->Scale(1/hist_DR_recotruth_pt_100GeV->Integral());\n",
    "hist_DR_recotruth_pt_100GeV->DrawNormalized(\"same\");\n",
    "hist_DR_recotruth_pt_500GeV->SetMarkerStyle(22);\n",
    "hist_DR_recotruth_pt_500GeV->SetMarkerColor(kGreen);\n",
    "hist_DR_recotruth_pt_500GeV->Scale(1/hist_DR_recotruth_pt_500GeV->Integral());\n",
    "hist_DR_recotruth_pt_500GeV->DrawNormalized(\"same\");\n",
    "canvas->Draw();"
   ]
  },
  {
   "cell_type": "code",
   "execution_count": 12,
   "id": "df02c0d6",
   "metadata": {},
   "outputs": [
    {
     "name": "stderr",
     "output_type": "stream",
     "text": [
      "Warning in <TFile::Append>: Replacing existing TH1: pT response (Potential memory leak).\n",
      "Warning in <TFile::Append>: Replacing existing TH1: pT response (Potential memory leak).\n",
      "Warning in <TFile::Append>: Replacing existing TH1: pT response (Potential memory leak).\n",
      "Warning in <TCanvas::Constructor>: Deleting canvas with same name: Canvas\n"
     ]
    }
   ],
   "source": [
    "TH1F *hist_DR_tracktruth_pt_20GeV = new TH1F(\"pT response\",\"Track Responce pT; Delta R; Events\",40,0,3);\n",
    "TH1F *hist_DR_tracktruth_pt_100GeV = new TH1F(\"pT response\",\"Track Responce pT; Delta R; Events\",40,0,3);\n",
    "TH1F *hist_DR_tracktruth_pt_500GeV = new TH1F(\"pT response\",\"Track Responce pT; Delta R; Events\",40,0,3);\n",
    "TCanvas *canvas = new TCanvas(\"Canvas\",\"\",800,600);"
   ]
  },
  {
   "cell_type": "code",
   "execution_count": 13,
   "id": "81351aef",
   "metadata": {},
   "outputs": [],
   "source": [
    "for (i = 0; i < nentries; i++)\n",
    "{\n",
    "    nbytes = tree->GetEntry(i);\n",
    "\n",
    "    if(truth_R4_pt->size()!=0 && truth_R4_pt->at(0)>20000.){\n",
    "        TLorentzVector truthJet;\n",
    "        truthJet.SetPtEtaPhiM(truth_R4_pt->at(0),truth_R4_eta->at(0),truth_R4_phi->at(0),truth_R4_m->at(0)); \n",
    "        if(track_R4_pt->size()!=0 && fabs(reco_R4_jvf->at(0))>0.5){\n",
    "            TLorentzVector trackJet;\n",
    "            trackJet.SetPtEtaPhiM(track_R4_pt->at(0),track_R4_eta->at(0),track_R4_phi->at(0),track_R4_m->at(0));        \n",
    "            if(truthJet.DeltaR(trackJet) < 0.3){\n",
    "                    hist_DR_tracktruth_pt_20GeV->Fill(track_R4_pt->at(0)/truth_R4_pt->at(0),evtw);\n",
    "            }\n",
    "        }\n",
    "    }\n",
    "    \n",
    "    if(truth_R4_pt->size()!=0 && truth_R4_pt->at(0)>100000.){\n",
    "        TLorentzVector truthJet;\n",
    "        truthJet.SetPtEtaPhiM(truth_R4_pt->at(0),truth_R4_eta->at(0),truth_R4_phi->at(0),truth_R4_m->at(0)); \n",
    "        if(track_R4_pt->size()!=0 && fabs(reco_R4_jvf->at(0))>0.5){\n",
    "            TLorentzVector trackJet;\n",
    "            trackJet.SetPtEtaPhiM(track_R4_pt->at(0),track_R4_eta->at(0),track_R4_phi->at(0),track_R4_m->at(0));        \n",
    "            if(truthJet.DeltaR(trackJet) < 0.3){\n",
    "                    hist_DR_tracktruth_pt_100GeV->Fill(track_R4_pt->at(0)/truth_R4_pt->at(0),evtw);\n",
    "            }\n",
    "        }\n",
    "    }\n",
    "    \n",
    "    if(truth_R4_pt->size()!=0 && truth_R4_pt->at(0)>500000.){\n",
    "        TLorentzVector truthJet;\n",
    "        truthJet.SetPtEtaPhiM(truth_R4_pt->at(0),truth_R4_eta->at(0),truth_R4_phi->at(0),truth_R4_m->at(0)); \n",
    "        if(track_R4_pt->size()!=0 && fabs(reco_R4_jvf->at(0))>0.5){\n",
    "            TLorentzVector trackJet;\n",
    "            trackJet.SetPtEtaPhiM(track_R4_pt->at(0),track_R4_eta->at(0),track_R4_phi->at(0),track_R4_m->at(0));        \n",
    "            if(truthJet.DeltaR(trackJet) < 0.3){\n",
    "                    hist_DR_tracktruth_pt_500GeV->Fill(track_R4_pt->at(0)/truth_R4_pt->at(0),evtw);\n",
    "            }\n",
    "        }\n",
    "    }\n",
    "}\n",
    "\n",
    "std::cout << \"Done!\" << std::endl;"
   ]
  },
  {
   "cell_type": "code",
   "execution_count": 14,
   "id": "ab48dc6e",
   "metadata": {},
   "outputs": [
    {
     "data": {
      "image/png": "[encoded data removed]",
      "text/plain": [
       "<IPython.core.display.Image object>"
      ]
     },
     "metadata": {},
     "output_type": "display_data"
    }
   ],
   "source": [
    "hist_DR_tracktruth_pt_20GeV->SetMarkerStyle(20);\n",
    "hist_DR_tracktruth_pt_20GeV->SetMarkerColor(kRed);\n",
    "hist_DR_tracktruth_pt_20GeV->Scale(1/hist_DR_recotruth_pt_20GeV->Integral());\n",
    "hist_DR_tracktruth_pt_20GeV->DrawNormalized();\n",
    "hist_DR_tracktruth_pt_100GeV->SetMarkerStyle(21);\n",
    "hist_DR_tracktruth_pt_100GeV->SetMarkerColor(kBlue);\n",
    "hist_DR_tracktruth_pt_100GeV->Scale(1/hist_DR_recotruth_pt_100GeV->Integral());\n",
    "hist_DR_tracktruth_pt_100GeV->DrawNormalized(\"same\");\n",
    "hist_DR_tracktruth_pt_500GeV->SetMarkerStyle(22);\n",
    "hist_DR_tracktruth_pt_500GeV->SetMarkerColor(kGreen);\n",
    "hist_DR_tracktruth_pt_500GeV->Scale(1/hist_DR_recotruth_pt_500GeV->Integral());\n",
    "hist_DR_tracktruth_pt_500GeV->DrawNormalized(\"same\");\n",
    "canvas->Draw();"
   ]
  },
  {
   "cell_type": "code",
   "execution_count": null,
   "id": "09290a09",
   "metadata": {},
   "outputs": [],
   "source": []
  }
 ],
 "metadata": {
  "kernelspec": {
   "display_name": "ROOT C++",
   "language": "c++",
   "name": "root"
  },
  "language_info": {
   "codemirror_mode": "text/x-c++src",
   "file_extension": ".C",
   "mimetype": " text/x-c++src",
   "name": "c++"
  }
 },
 "nbformat": 4,
 "nbformat_minor": 5
}
